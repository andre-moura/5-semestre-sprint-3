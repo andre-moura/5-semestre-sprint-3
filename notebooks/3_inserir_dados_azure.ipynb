{
 "cells": [
  {
   "cell_type": "markdown",
   "id": "dc32411c",
   "metadata": {},
   "source": [
    "# Criação da sessão do PySpark"
   ]
  },
  {
   "cell_type": "code",
   "execution_count": 1,
   "id": "ac40adbd",
   "metadata": {},
   "outputs": [
    {
     "name": "stderr",
     "output_type": "stream",
     "text": [
      "WARNING: An illegal reflective access operation has occurred\n",
      "WARNING: Illegal reflective access by org.apache.spark.unsafe.Platform (file:/usr/local/lib/python3.7/site-packages/pyspark/jars/spark-unsafe_2.12-3.2.1.jar) to constructor java.nio.DirectByteBuffer(long,int)\n",
      "WARNING: Please consider reporting this to the maintainers of org.apache.spark.unsafe.Platform\n",
      "WARNING: Use --illegal-access=warn to enable warnings of further illegal reflective access operations\n",
      "WARNING: All illegal access operations will be denied in a future release\n"
     ]
    },
    {
     "name": "stdout",
     "output_type": "stream",
     "text": [
      ":: loading settings :: url = jar:file:/usr/local/lib/python3.7/site-packages/pyspark/jars/ivy-2.5.0.jar!/org/apache/ivy/core/settings/ivysettings.xml\n"
     ]
    },
    {
     "name": "stderr",
     "output_type": "stream",
     "text": [
      "Ivy Default Cache set to: /root/.ivy2/cache\n",
      "The jars for the packages stored in: /root/.ivy2/jars\n",
      "org.apache.hadoop#hadoop-aws added as a dependency\n",
      "com.microsoft.azure#spark-mssql-connector_2.12 added as a dependency\n",
      ":: resolving dependencies :: org.apache.spark#spark-submit-parent-b880ff5a-d224-4792-9539-ecef15ff5839;1.0\n",
      "\tconfs: [default]\n",
      "\tfound org.apache.hadoop#hadoop-aws;3.2.2 in central\n",
      "\tfound com.amazonaws#aws-java-sdk-bundle;1.11.563 in central\n",
      "\tfound com.microsoft.azure#spark-mssql-connector_2.12;1.2.0 in central\n",
      "\tfound com.microsoft.sqlserver#mssql-jdbc;8.4.1.jre8 in central\n",
      ":: resolution report :: resolve 414ms :: artifacts dl 15ms\n",
      "\t:: modules in use:\n",
      "\tcom.amazonaws#aws-java-sdk-bundle;1.11.563 from central in [default]\n",
      "\tcom.microsoft.azure#spark-mssql-connector_2.12;1.2.0 from central in [default]\n",
      "\tcom.microsoft.sqlserver#mssql-jdbc;8.4.1.jre8 from central in [default]\n",
      "\torg.apache.hadoop#hadoop-aws;3.2.2 from central in [default]\n",
      "\t---------------------------------------------------------------------\n",
      "\t|                  |            modules            ||   artifacts   |\n",
      "\t|       conf       | number| search|dwnlded|evicted|| number|dwnlded|\n",
      "\t---------------------------------------------------------------------\n",
      "\t|      default     |   4   |   0   |   0   |   0   ||   4   |   0   |\n",
      "\t---------------------------------------------------------------------\n",
      ":: retrieving :: org.apache.spark#spark-submit-parent-b880ff5a-d224-4792-9539-ecef15ff5839\n",
      "\tconfs: [default]\n",
      "\t0 artifacts copied, 4 already retrieved (0kB/11ms)\n",
      "22/06/12 19:48:19 WARN NativeCodeLoader: Unable to load native-hadoop library for your platform... using builtin-java classes where applicable\n",
      "Using Spark's default log4j profile: org/apache/spark/log4j-defaults.properties\n",
      "Setting default log level to \"WARN\".\n",
      "To adjust logging level use sc.setLogLevel(newLevel). For SparkR, use setLogLevel(newLevel).\n",
      "22/06/12 19:48:21 WARN Utils: Service 'SparkUI' could not bind on port 4040. Attempting port 4041.\n"
     ]
    }
   ],
   "source": [
    "#iniciar spark\n",
    "from pyspark import SparkConf\n",
    "from pyspark.sql import SparkSession\n",
    "\n",
    "conf = SparkConf()\n",
    "#conf.set('spark.jars.packages', 'org.apache.hadoop:hadoop-aws:3.2.2')\n",
    "conf.set('spark.jars.packages', 'org.apache.hadoop:hadoop-aws:3.2.2,com.microsoft.azure:spark-mssql-connector_2.12:1.2.0')\n",
    "conf.set('spark.hadoop.fs.s3a.aws.credentials.provider', 'com.amazonaws.auth.InstanceProfileCredentialsProvider')\n",
    "\n",
    "spark = SparkSession.builder.config(conf=conf).getOrCreate()"
   ]
  },
  {
   "cell_type": "markdown",
   "id": "99ee3d3b",
   "metadata": {},
   "source": [
    "# Leitura dos datasets com as métricas dos clientes"
   ]
  },
  {
   "cell_type": "code",
   "execution_count": 2,
   "id": "272d248f",
   "metadata": {},
   "outputs": [],
   "source": [
    "BUCKET = 's3a://andre-sprint03-sptech-bucket-cliente/'"
   ]
  },
  {
   "cell_type": "code",
   "execution_count": 3,
   "id": "fe5b4daf",
   "metadata": {},
   "outputs": [
    {
     "name": "stderr",
     "output_type": "stream",
     "text": [
      "22/06/12 19:48:27 WARN MetricsConfig: Cannot locate configuration: tried hadoop-metrics2-s3a-file-system.properties,hadoop-metrics2.properties\n",
      "                                                                                \r"
     ]
    }
   ],
   "source": [
    "df_colera_mapa_calor = spark.read.option('delimiter', ',') \\\n",
    "    .option('header', 'true') \\\n",
    "    .csv(BUCKET + 'df_colera_mapa_calor')"
   ]
  },
  {
   "cell_type": "code",
   "execution_count": 4,
   "id": "6e8223ea",
   "metadata": {},
   "outputs": [],
   "source": [
    "df_colera_regiao = spark.read.option('delimiter', ',') \\\n",
    "    .option('header', 'true') \\\n",
    "    .csv(BUCKET + 'df_colera_regiao')"
   ]
  },
  {
   "cell_type": "code",
   "execution_count": 5,
   "id": "8558a54d",
   "metadata": {},
   "outputs": [],
   "source": [
    "df_colera_globais = spark.read.option('delimiter', ',') \\\n",
    "    .option('header', 'true') \\\n",
    "    .csv(BUCKET + 'df_colera_globais')"
   ]
  },
  {
   "cell_type": "code",
   "execution_count": 6,
   "id": "1317399f",
   "metadata": {},
   "outputs": [],
   "source": [
    "df_agua_tratada_pais_pandas = spark.read.option('delimiter', ',') \\\n",
    "    .option('header', 'true') \\\n",
    "    .csv(BUCKET + 'df_agua_tratada_pais_pandas')"
   ]
  },
  {
   "cell_type": "code",
   "execution_count": 7,
   "id": "0146a2d4",
   "metadata": {},
   "outputs": [],
   "source": [
    "df_populacao_ago_defecando_aberto = spark.read.option('delimiter', ',') \\\n",
    "    .option('header', 'true') \\\n",
    "    .csv(BUCKET + 'df_populacao_ago_defecando_aberto')"
   ]
  },
  {
   "cell_type": "code",
   "execution_count": 8,
   "id": "05e9d212",
   "metadata": {
    "scrolled": true
   },
   "outputs": [],
   "source": [
    "df_populacao_br_defecando_aberto = spark.read.option('delimiter', ',') \\\n",
    "    .option('header', 'true') \\\n",
    "    .csv(BUCKET + 'df_populacao_br_defecando_aberto')"
   ]
  },
  {
   "cell_type": "code",
   "execution_count": 9,
   "id": "db8c9004",
   "metadata": {},
   "outputs": [],
   "source": [
    "from pyspark.sql.types import IntegerType, StringType, DoubleType, DecimalType\n",
    "from pyspark.sql.functions import col"
   ]
  },
  {
   "cell_type": "code",
   "execution_count": 10,
   "id": "21b4cfc4",
   "metadata": {},
   "outputs": [
    {
     "name": "stdout",
     "output_type": "stream",
     "text": [
      "root\n",
      " |-- ANOS: integer (nullable = true)\n",
      " |-- PAISES: string (nullable = true)\n",
      " |-- CASOS: integer (nullable = true)\n",
      " |-- GDP: double (nullable = true)\n",
      " |-- CODIGO: string (nullable = true)\n",
      "\n"
     ]
    }
   ],
   "source": [
    "tbl_colera_mapa_calor = df_colera_mapa_calor.select(\n",
    "    col('Year').cast(IntegerType()).alias('ANOS'),\n",
    "    col('Country').cast(StringType()).alias('PAISES'),\n",
    "    col('Cases').cast(IntegerType()).alias('CASOS'),\n",
    "    col('GDP (BILLIONS)').cast(DoubleType()).alias('GDP'),\n",
    "    col('CODE').cast(StringType()).alias('CODIGO')\n",
    ")\n",
    "\n",
    "tbl_colera_mapa_calor = tbl_colera_mapa_calor.replace(float('nan'), None)\n",
    "\n",
    "tbl_colera_mapa_calor.printSchema()"
   ]
  },
  {
   "cell_type": "code",
   "execution_count": 13,
   "id": "627021b7",
   "metadata": {},
   "outputs": [
    {
     "name": "stdout",
     "output_type": "stream",
     "text": [
      "root\n",
      " |-- Anos: integer (nullable = true)\n",
      " |-- REGIAO: string (nullable = true)\n",
      " |-- CASOS: integer (nullable = true)\n",
      "\n"
     ]
    }
   ],
   "source": [
    "tbl_colera_regiao = df_colera_regiao.select(\n",
    "    col('Anos').cast(IntegerType()).alias('Anos'),\n",
    "    col('Regiao').alias('REGIAO'),\n",
    "    col('Casos de colera').cast(IntegerType()).alias('CASOS')\n",
    ")\n",
    "\n",
    "tbl_colera_regiao.printSchema()"
   ]
  },
  {
   "cell_type": "code",
   "execution_count": 14,
   "id": "654cdb86",
   "metadata": {
    "scrolled": true
   },
   "outputs": [
    {
     "name": "stdout",
     "output_type": "stream",
     "text": [
      "root\n",
      " |-- ANOS: integer (nullable = true)\n",
      " |-- CASOS: integer (nullable = true)\n",
      " |-- MORTES: integer (nullable = true)\n",
      "\n"
     ]
    }
   ],
   "source": [
    "tbl_colera_globais = df_colera_globais.select(\n",
    "    col('Anos').cast(IntegerType()).alias('ANOS'),\n",
    "    col('Casos de colera').cast(IntegerType()).alias('CASOS'),\n",
    "    col('Mortes por colera').cast(IntegerType()).alias('MORTES')\n",
    ")\n",
    "\n",
    "tbl_colera_globais.printSchema()"
   ]
  },
  {
   "cell_type": "code",
   "execution_count": 15,
   "id": "f00d141c",
   "metadata": {},
   "outputs": [
    {
     "name": "stdout",
     "output_type": "stream",
     "text": [
      "root\n",
      " |-- ANOS: integer (nullable = true)\n",
      " |-- PAIS: string (nullable = true)\n",
      " |-- CODIGO: string (nullable = true)\n",
      " |-- POPULACAO_USANDO_AGUA_POTAVEL: integer (nullable = true)\n",
      "\n"
     ]
    }
   ],
   "source": [
    "tbl_agua_tratada_pais = df_agua_tratada_pais_pandas.select(\n",
    "    col('ANOS').cast(IntegerType()),\n",
    "    col('PAIS'),\n",
    "    col('CODIGO'),\n",
    "    col('POPULACAO_USANDO_SERVICOS_BASICOS_AGUA_POTAVEL').cast(IntegerType()).alias('POPULACAO_USANDO_AGUA_POTAVEL')\n",
    ")\n",
    "\n",
    "tbl_agua_tratada_pais.printSchema()"
   ]
  },
  {
   "cell_type": "code",
   "execution_count": 16,
   "id": "942ada41",
   "metadata": {},
   "outputs": [
    {
     "name": "stdout",
     "output_type": "stream",
     "text": [
      "root\n",
      " |-- ANOS: string (nullable = true)\n",
      " |-- POPULACAO_URBANA_DEFECANDO_EM_ABERTO: string (nullable = true)\n",
      " |-- POPULACAO_RURAL_DEFECANDO_EM_ABERTO: string (nullable = true)\n",
      "\n",
      "+----+------------------------------------+-----------------------------------+\n",
      "|ANOS|POPULACAO_URBANA_DEFECANDO_EM_ABERTO|POPULACAO_RURAL_DEFECANDO_EM_ABERTO|\n",
      "+----+------------------------------------+-----------------------------------+\n",
      "|2000|                                19.1|                              66.71|\n",
      "|2001|                               18.04|                              66.02|\n",
      "|2002|                               16.97|                              65.32|\n",
      "|2003|                                15.9|                              64.62|\n",
      "|2004|                               14.84|                              63.92|\n",
      "|2005|                               13.77|                              63.23|\n",
      "|2006|                                12.7|                              62.53|\n",
      "|2007|                               11.64|                              61.83|\n",
      "|2008|                               10.57|                              61.14|\n",
      "|2009|                                 9.5|                              60.44|\n",
      "|2010|                                8.44|                              59.74|\n",
      "|2011|                                7.37|                              59.04|\n",
      "|2012|                                6.31|                              58.35|\n",
      "|2013|                                5.24|                              57.65|\n",
      "|2014|                                4.17|                              56.95|\n",
      "|2015|                                3.11|                              56.25|\n",
      "|2016|                                2.04|                              55.56|\n",
      "|2017|                                0.97|                              54.86|\n",
      "+----+------------------------------------+-----------------------------------+\n",
      "\n"
     ]
    }
   ],
   "source": [
    "df_populacao_ago_defecando_aberto.printSchema()\n",
    "df_populacao_ago_defecando_aberto.show()"
   ]
  },
  {
   "cell_type": "code",
   "execution_count": 17,
   "id": "8a520fdb",
   "metadata": {},
   "outputs": [
    {
     "name": "stdout",
     "output_type": "stream",
     "text": [
      "root\n",
      " |-- ANOS: integer (nullable = true)\n",
      " |-- POPULACAO_URBANA_DEFECANDO_EM_ABERTO: double (nullable = true)\n",
      " |-- POPULACAO_RURAL_DEFECANDO_EM_ABERTO: double (nullable = true)\n",
      "\n"
     ]
    }
   ],
   "source": [
    "tbl_populacao_ago_defecando_aberto = df_populacao_ago_defecando_aberto.select(\n",
    "    col('ANOS').cast(IntegerType()),\n",
    "    col('POPULACAO_URBANA_DEFECANDO_EM_ABERTO').cast(DoubleType()),\n",
    "    col('POPULACAO_RURAL_DEFECANDO_EM_ABERTO').cast(DoubleType())\n",
    ")\n",
    "tbl_populacao_ago_defecando_aberto.printSchema()"
   ]
  },
  {
   "cell_type": "code",
   "execution_count": 18,
   "id": "1f8f374d",
   "metadata": {},
   "outputs": [
    {
     "name": "stdout",
     "output_type": "stream",
     "text": [
      "root\n",
      " |-- ANOS: integer (nullable = true)\n",
      " |-- POPULACAO_URBANA_DEFECANDO_EM_ABERTO: double (nullable = true)\n",
      " |-- POPULACAO_RURAL_DEFECANDO_EM_ABERTO: double (nullable = true)\n",
      "\n"
     ]
    }
   ],
   "source": [
    "tbl_populacao_br_defecando_aberto = df_populacao_br_defecando_aberto.select(\n",
    "    col('ANOS').cast(IntegerType()),\n",
    "    col('POPULACAO_URBANA_DEFECANDO_EM_ABERTO').cast(DoubleType()),\n",
    "    col('POPULACAO_RURAL_DEFECANDO_EM_ABERTO').cast(DoubleType())\n",
    ")\n",
    "tbl_populacao_br_defecando_aberto.printSchema()"
   ]
  },
  {
   "cell_type": "markdown",
   "id": "47d6c68e",
   "metadata": {},
   "source": [
    "# Upload dos datasets nas tabelas do Azure"
   ]
  },
  {
   "cell_type": "code",
   "execution_count": 19,
   "id": "34d4eeb4",
   "metadata": {},
   "outputs": [
    {
     "name": "stderr",
     "output_type": "stream",
     "text": [
      "                                                                                \r"
     ]
    }
   ],
   "source": [
    "tbl_colera_mapa_calor.write \\\n",
    " .format('com.microsoft.sqlserver.jdbc.spark') \\\n",
    " .mode('overwrite') \\\n",
    " .option('driver', 'com.microsoft.sqlserver.jdbc.SQLServerDriver') \\\n",
    " .option('url', 'jdbc:sqlserver://server-water-quality.database.windows.net;databaseName=bd_water_quality;') \\\n",
    " .option('dbtable', 'tbl_colera_mapa_calor') \\\n",
    " .option('user', 'urubu100') \\\n",
    " .option('password', 'Urubu1@@') \\\n",
    " .save()"
   ]
  },
  {
   "cell_type": "code",
   "execution_count": 20,
   "id": "d5641b65",
   "metadata": {},
   "outputs": [],
   "source": [
    "tbl_colera_regiao.write \\\n",
    " .format('com.microsoft.sqlserver.jdbc.spark') \\\n",
    " .mode('overwrite') \\\n",
    " .option('driver', 'com.microsoft.sqlserver.jdbc.SQLServerDriver') \\\n",
    " .option('url', 'jdbc:sqlserver://server-water-quality.database.windows.net;databaseName=bd_water_quality;') \\\n",
    " .option('dbtable', 'tbl_colera_regiao') \\\n",
    " .option('user', 'urubu100') \\\n",
    " .option('password', 'Urubu1@@') \\\n",
    " .save()"
   ]
  },
  {
   "cell_type": "code",
   "execution_count": 21,
   "id": "2e2b57b1",
   "metadata": {},
   "outputs": [],
   "source": [
    "tbl_colera_globais.write \\\n",
    " .format('com.microsoft.sqlserver.jdbc.spark') \\\n",
    " .mode('overwrite') \\\n",
    " .option('driver', 'com.microsoft.sqlserver.jdbc.SQLServerDriver') \\\n",
    " .option('url', 'jdbc:sqlserver://server-water-quality.database.windows.net;databaseName=bd_water_quality;') \\\n",
    " .option('dbtable', 'tbl_colera_globais') \\\n",
    " .option('user', 'urubu100') \\\n",
    " .option('password', 'Urubu1@@') \\\n",
    " .save()"
   ]
  },
  {
   "cell_type": "code",
   "execution_count": 22,
   "id": "c3acf62d",
   "metadata": {},
   "outputs": [
    {
     "name": "stderr",
     "output_type": "stream",
     "text": [
      "                                                                                \r"
     ]
    }
   ],
   "source": [
    "tbl_agua_tratada_pais.write \\\n",
    " .format('com.microsoft.sqlserver.jdbc.spark') \\\n",
    " .mode('overwrite') \\\n",
    " .option('driver', 'com.microsoft.sqlserver.jdbc.SQLServerDriver') \\\n",
    " .option('url', 'jdbc:sqlserver://server-water-quality.database.windows.net;databaseName=bd_water_quality;') \\\n",
    " .option('dbtable', 'tbl_agua_tratada_pais') \\\n",
    " .option('user', 'urubu100') \\\n",
    " .option('password', 'Urubu1@@') \\\n",
    " .save()"
   ]
  },
  {
   "cell_type": "code",
   "execution_count": 23,
   "id": "ad5bb5af",
   "metadata": {},
   "outputs": [],
   "source": [
    "tbl_populacao_ago_defecando_aberto.write \\\n",
    " .format('com.microsoft.sqlserver.jdbc.spark') \\\n",
    " .mode('overwrite') \\\n",
    " .option('driver', 'com.microsoft.sqlserver.jdbc.SQLServerDriver') \\\n",
    " .option('url', 'jdbc:sqlserver://server-water-quality.database.windows.net;databaseName=bd_water_quality;') \\\n",
    " .option('dbtable', 'tbl_populacao_ago_defecando_aberto') \\\n",
    " .option('user', 'urubu100') \\\n",
    " .option('password', 'Urubu1@@') \\\n",
    " .save()"
   ]
  },
  {
   "cell_type": "code",
   "execution_count": 24,
   "id": "f941bd1d",
   "metadata": {},
   "outputs": [],
   "source": [
    "tbl_populacao_br_defecando_aberto.write \\\n",
    " .format('com.microsoft.sqlserver.jdbc.spark') \\\n",
    " .mode('overwrite') \\\n",
    " .option('driver', 'com.microsoft.sqlserver.jdbc.SQLServerDriver') \\\n",
    " .option('url', 'jdbc:sqlserver://server-water-quality.database.windows.net;databaseName=bd_water_quality;') \\\n",
    " .option('dbtable', 'tbl_populacao_br_defecando_aberto') \\\n",
    " .option('user', 'urubu100') \\\n",
    " .option('password', 'Urubu1@@') \\\n",
    " .save()"
   ]
  },
  {
   "cell_type": "code",
   "execution_count": null,
   "id": "941e30bc",
   "metadata": {},
   "outputs": [],
   "source": []
  }
 ],
 "metadata": {
  "kernelspec": {
   "display_name": "Python 3 (ipykernel)",
   "language": "python",
   "name": "python3"
  },
  "language_info": {
   "codemirror_mode": {
    "name": "ipython",
    "version": 3
   },
   "file_extension": ".py",
   "mimetype": "text/x-python",
   "name": "python",
   "nbconvert_exporter": "python",
   "pygments_lexer": "ipython3",
   "version": "3.7.10"
  }
 },
 "nbformat": 4,
 "nbformat_minor": 5
}
