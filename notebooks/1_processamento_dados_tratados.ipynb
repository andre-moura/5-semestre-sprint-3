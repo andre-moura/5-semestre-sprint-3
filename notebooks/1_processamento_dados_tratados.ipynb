{
 "cells": [
  {
   "cell_type": "markdown",
   "id": "dc32411c",
   "metadata": {},
   "source": [
    "# Criação da sessão do PySpark"
   ]
  },
  {
   "cell_type": "code",
   "execution_count": 11,
   "id": "280abe63",
   "metadata": {
    "scrolled": true
   },
   "outputs": [],
   "source": [
    "#iniciar spark\n",
    "from pyspark import SparkConf\n",
    "from pyspark.sql import SparkSession\n",
    "import pandas as pd\n",
    "\n",
    "conf = SparkConf()\n",
    "#conf.set('spark.jars.packages', 'org.apache.hadoop:hadoop-aws:3.2.2')\n",
    "conf.set('spark.jars.packages', 'org.apache.hadoop:hadoop-aws:3.2.2,com.microsoft.azure:spark-mssql-connector_2.12:1.2.0,com.databricks:spark-xml_2.12:0.6.0')\n",
    "conf.set('spark.hadoop.fs.s3a.aws.credentials.provider', 'com.amazonaws.auth.InstanceProfileCredentialsProvider')\n",
    "\n",
    "spark = SparkSession.builder.config(conf=conf).getOrCreate()"
   ]
  },
  {
   "cell_type": "markdown",
   "id": "53293830",
   "metadata": {},
   "source": [
    "# Lendo arquivo CSV vindo de um bucket da S3"
   ]
  },
  {
   "cell_type": "code",
   "execution_count": 12,
   "id": "9b3dd78b",
   "metadata": {},
   "outputs": [],
   "source": [
    "df_cholera = spark.read.option('delimiter', ',') \\\n",
    "    .option('header', 'true') \\\n",
    "    .csv('s3a://andre-sprint03-sptech-bucket-bruto/cholera-cases.csv')"
   ]
  },
  {
   "cell_type": "code",
   "execution_count": 13,
   "id": "d65be574",
   "metadata": {},
   "outputs": [
    {
     "name": "stderr",
     "output_type": "stream",
     "text": [
      "                                                                                \r"
     ]
    }
   ],
   "source": [
    "df_sanitation_water = spark.read.format(\"com.databricks.spark.xml\") \\\n",
    ".option(\"rootTag\", \"data\") \\\n",
    ".option(\"rowTag\", \"row\").load('s3a://andre-sprint03-sptech-bucket-bruto/sanitation-water-global.xml')"
   ]
  },
  {
   "cell_type": "markdown",
   "id": "d389cc24",
   "metadata": {},
   "source": [
    "# Tratando os datatypes do dataframe"
   ]
  },
  {
   "cell_type": "code",
   "execution_count": 14,
   "id": "a7eaa791",
   "metadata": {
    "scrolled": true
   },
   "outputs": [
    {
     "name": "stdout",
     "output_type": "stream",
     "text": [
      "root\n",
      " |-- Country: string (nullable = true)\n",
      " |-- Year: string (nullable = true)\n",
      " |-- Number of reported cases of cholera: string (nullable = true)\n",
      " |-- Number of reported deaths from cholera: string (nullable = true)\n",
      " |-- Cholera case fatality rate: string (nullable = true)\n",
      " |-- WHO Region: string (nullable = true)\n",
      "\n"
     ]
    }
   ],
   "source": [
    "df_cholera.printSchema()"
   ]
  },
  {
   "cell_type": "code",
   "execution_count": 15,
   "id": "564beb5f",
   "metadata": {
    "scrolled": true
   },
   "outputs": [
    {
     "name": "stdout",
     "output_type": "stream",
     "text": [
      "root\n",
      " |-- Country: string (nullable = true)\n",
      " |-- Country_code: string (nullable = true)\n",
      " |-- Population_practising_open_defecation_Rural: double (nullable = true)\n",
      " |-- Population_practising_open_defecation_Total: double (nullable = true)\n",
      " |-- Population_practising_open_defecation_Urban: double (nullable = true)\n",
      " |-- Population_using_at_least_basic_drinking_water_services_Rural: double (nullable = true)\n",
      " |-- Population_using_at_least_basic_drinking_water_services_Total: double (nullable = true)\n",
      " |-- Population_using_at_least_basic_drinking_water_services_Urban: double (nullable = true)\n",
      " |-- Population_using_at_least_basic_sanitation_services_Total: double (nullable = true)\n",
      " |-- Population_using_at_least_basic_sanitation_services_Urban: double (nullable = true)\n",
      " |-- Population_using_safely_managed_drinking_water_services_Rural: double (nullable = true)\n",
      " |-- Population_using_safely_managed_drinking_water_services_Total: double (nullable = true)\n",
      " |-- Population_using_safely_managed_drinking_water_services_Urban: double (nullable = true)\n",
      " |-- Population_using_safely_managed_drinking_water_services_Urban.1: double (nullable = true)\n",
      " |-- Population_using_safely_managed_sanitation_services_Rural: double (nullable = true)\n",
      " |-- Population_using_safely_managed_sanitation_services_Total: double (nullable = true)\n",
      " |-- Population_using_safely_managed_sanitation_services_Urban: double (nullable = true)\n",
      " |-- Population_with_basic_handwashing_facilities_at_home_Rural: double (nullable = true)\n",
      " |-- Population_with_basic_handwashing_facilities_at_home_Total: double (nullable = true)\n",
      " |-- Population_with_basic_handwashing_facilities_at_home_Urban: double (nullable = true)\n",
      " |-- Region: string (nullable = true)\n",
      " |-- Year: long (nullable = true)\n",
      " |-- index: long (nullable = true)\n",
      "\n"
     ]
    }
   ],
   "source": [
    "df_sanitation_water.printSchema()"
   ]
  },
  {
   "cell_type": "code",
   "execution_count": 20,
   "id": "91a0a217",
   "metadata": {
    "scrolled": false
   },
   "outputs": [],
   "source": [
    "from pyspark.sql.types import IntegerType, DecimalType\n",
    "from pyspark.sql.functions import col\n",
    "\n",
    "#Tranformando os datatypes do dataframe de colera\n",
    "df_cholera = df_cholera.select(\n",
    "    col('Country').alias('COUNTRY'),\n",
    "    col('Year').cast(IntegerType()).alias('YEAR'),\n",
    "    col('Number of reported cases of cholera').cast(IntegerType()).alias('CASES_CHOLERA'),\n",
    "    col('Number of reported deaths from cholera').cast(IntegerType()).alias('DEATHS_CHOLERA'),\n",
    "    col('Cholera case fatality rate').cast(DecimalType(18, 2)).alias('FATALITY_RATE'),\n",
    "    col('WHO Region').alias('REGION')\n",
    ")\n"
   ]
  },
  {
   "cell_type": "code",
   "execution_count": 21,
   "id": "90ab7b52",
   "metadata": {},
   "outputs": [
    {
     "name": "stdout",
     "output_type": "stream",
     "text": [
      "root\n",
      " |-- COUNTRY: string (nullable = true)\n",
      " |-- YEAR: integer (nullable = true)\n",
      " |-- CASES_CHOLERA: integer (nullable = true)\n",
      " |-- DEATHS_CHOLERA: integer (nullable = true)\n",
      " |-- FATALITY_RATE: decimal(18,2) (nullable = true)\n",
      " |-- REGION: string (nullable = true)\n",
      "\n"
     ]
    }
   ],
   "source": [
    "df_cholera.printSchema()"
   ]
  },
  {
   "cell_type": "code",
   "execution_count": 22,
   "id": "07b854cf",
   "metadata": {},
   "outputs": [],
   "source": [
    "from pyspark.sql.types import IntegerType, DecimalType, StringType, DoubleType\n",
    "from pyspark.sql.functions import col\n",
    "\n",
    "# Modificando o datatype do Dataframe de saneamneto de água\n",
    "df_sanitation_water = df_sanitation_water.select(\n",
    "    col('Year').cast(IntegerType()),\n",
    "    col('Region').cast(StringType()),\n",
    "    col('Country_code').cast(StringType()),\n",
    "    col('Country').cast(StringType()),\n",
    "    col('Population_using_at_least_basic_drinking_water_services_Rural').cast(DecimalType(18, 2)),\n",
    "    col('Population_using_at_least_basic_drinking_water_services_Total').cast(DecimalType(18, 2)),\n",
    "    col('Population_using_at_least_basic_drinking_water_services_Urban').cast(DecimalType(18, 2)),\n",
    "    col('Population_using_safely_managed_drinking_water_services_Rural').cast(DecimalType(18, 2)),\n",
    "    col('Population_using_safely_managed_drinking_water_services_Total').cast(DecimalType(18, 2)),\n",
    "    col('Population_using_safely_managed_drinking_water_services_Urban').cast(DecimalType(18, 2)),\n",
    "    col('Population_using_at_least_basic_sanitation_services_Total').cast(DecimalType(18, 2)),\n",
    "    col('Population_using_at_least_basic_sanitation_services_Urban').cast(DecimalType(18, 2)),\n",
    "    col('Population_using_safely_managed_sanitation_services_Rural').cast(DecimalType(18, 2)),\n",
    "    col('Population_using_safely_managed_sanitation_services_Total').cast(DecimalType(18, 2)),\n",
    "    col('Population_using_safely_managed_sanitation_services_Urban').cast(DecimalType(18, 2)),\n",
    "    col('Population_with_basic_handwashing_facilities_at_home_Rural').cast(DecimalType(18, 2)),\n",
    "    col('Population_with_basic_handwashing_facilities_at_home_Total').cast(DecimalType(18, 2)),\n",
    "    col('Population_with_basic_handwashing_facilities_at_home_Urban').cast(DecimalType(18, 2)),\n",
    "    col('Population_practising_open_defecation_Rural').cast(DecimalType(18, 2)),\n",
    "    col('Population_practising_open_defecation_Total').cast(DecimalType(18, 2)),\n",
    "    col('Population_practising_open_defecation_Urban').cast(DecimalType(18, 2))\n",
    ")"
   ]
  },
  {
   "cell_type": "code",
   "execution_count": 23,
   "id": "06cf6104",
   "metadata": {
    "scrolled": true
   },
   "outputs": [
    {
     "name": "stdout",
     "output_type": "stream",
     "text": [
      "root\n",
      " |-- Year: integer (nullable = true)\n",
      " |-- Region: string (nullable = true)\n",
      " |-- Country_code: string (nullable = true)\n",
      " |-- Country: string (nullable = true)\n",
      " |-- Population_using_at_least_basic_drinking_water_services_Rural: decimal(18,2) (nullable = true)\n",
      " |-- Population_using_at_least_basic_drinking_water_services_Total: decimal(18,2) (nullable = true)\n",
      " |-- Population_using_at_least_basic_drinking_water_services_Urban: decimal(18,2) (nullable = true)\n",
      " |-- Population_using_safely_managed_drinking_water_services_Rural: decimal(18,2) (nullable = true)\n",
      " |-- Population_using_safely_managed_drinking_water_services_Total: decimal(18,2) (nullable = true)\n",
      " |-- Population_using_safely_managed_drinking_water_services_Urban: decimal(18,2) (nullable = true)\n",
      " |-- Population_using_at_least_basic_sanitation_services_Total: decimal(18,2) (nullable = true)\n",
      " |-- Population_using_at_least_basic_sanitation_services_Urban: decimal(18,2) (nullable = true)\n",
      " |-- Population_using_safely_managed_sanitation_services_Rural: decimal(18,2) (nullable = true)\n",
      " |-- Population_using_safely_managed_sanitation_services_Total: decimal(18,2) (nullable = true)\n",
      " |-- Population_using_safely_managed_sanitation_services_Urban: decimal(18,2) (nullable = true)\n",
      " |-- Population_with_basic_handwashing_facilities_at_home_Rural: decimal(18,2) (nullable = true)\n",
      " |-- Population_with_basic_handwashing_facilities_at_home_Total: decimal(18,2) (nullable = true)\n",
      " |-- Population_with_basic_handwashing_facilities_at_home_Urban: decimal(18,2) (nullable = true)\n",
      " |-- Population_practising_open_defecation_Rural: decimal(18,2) (nullable = true)\n",
      " |-- Population_practising_open_defecation_Total: decimal(18,2) (nullable = true)\n",
      " |-- Population_practising_open_defecation_Urban: decimal(18,2) (nullable = true)\n",
      "\n"
     ]
    }
   ],
   "source": [
    "# Dataframe antes de trabalhar os datatypes\n",
    "df_sanitation_water.printSchema()"
   ]
  },
  {
   "cell_type": "markdown",
   "id": "dca12132",
   "metadata": {},
   "source": [
    "# Verificando se dataframe possuí dados NaN ou Null"
   ]
  },
  {
   "cell_type": "code",
   "execution_count": 24,
   "id": "58cc025e",
   "metadata": {
    "scrolled": false
   },
   "outputs": [
    {
     "name": "stdout",
     "output_type": "stream",
     "text": [
      "+----+------+------------+--------------------+-------------------------------------------------------------+-------------------------------------------------------------+-------------------------------------------------------------+-------------------------------------------------------------+-------------------------------------------------------------+-------------------------------------------------------------+---------------------------------------------------------+---------------------------------------------------------+---------------------------------------------------------+---------------------------------------------------------+---------------------------------------------------------+----------------------------------------------------------+----------------------------------------------------------+----------------------------------------------------------+-------------------------------------------+-------------------------------------------+-------------------------------------------+\n",
      "|Year|Region|Country_code|             Country|Population_using_at_least_basic_drinking_water_services_Rural|Population_using_at_least_basic_drinking_water_services_Total|Population_using_at_least_basic_drinking_water_services_Urban|Population_using_safely_managed_drinking_water_services_Rural|Population_using_safely_managed_drinking_water_services_Total|Population_using_safely_managed_drinking_water_services_Urban|Population_using_at_least_basic_sanitation_services_Total|Population_using_at_least_basic_sanitation_services_Urban|Population_using_safely_managed_sanitation_services_Rural|Population_using_safely_managed_sanitation_services_Total|Population_using_safely_managed_sanitation_services_Urban|Population_with_basic_handwashing_facilities_at_home_Rural|Population_with_basic_handwashing_facilities_at_home_Total|Population_with_basic_handwashing_facilities_at_home_Urban|Population_practising_open_defecation_Rural|Population_practising_open_defecation_Total|Population_practising_open_defecation_Urban|\n",
      "+----+------+------------+--------------------+-------------------------------------------------------------+-------------------------------------------------------------+-------------------------------------------------------------+-------------------------------------------------------------+-------------------------------------------------------------+-------------------------------------------------------------+---------------------------------------------------------+---------------------------------------------------------+---------------------------------------------------------+---------------------------------------------------------+---------------------------------------------------------+----------------------------------------------------------+----------------------------------------------------------+----------------------------------------------------------+-------------------------------------------+-------------------------------------------+-------------------------------------------+\n",
      "|2000|Africa|         AGO|              Angola|                                                        21.15|                                                        41.14|                                                        61.07|                                                         null|                                                         null|                                                         null|                                                    27.56|                                                    47.51|                                                     null|                                                     null|                                                     null|                                                      null|                                                      null|                                                      null|                                      66.71|                                      42.87|                                      19.10|\n",
      "|2000|Africa|         BDI|             Burundi|                                                        47.84|                                                        50.66|                                                        82.05|                                                         null|                                                         null|                                                         null|                                                    45.21|                                                    40.56|                                                     null|                                                     null|                                                     null|                                                      null|                                                      null|                                                      null|                                       2.83|                                       2.76|                                       2.02|\n",
      "|2000|Africa|         BEN|               Benin|                                                        52.04|                                                        61.46|                                                        76.62|                                                         null|                                                         null|                                                         null|                                                     8.60|                                                    19.02|                                                     null|                                                     null|                                                     null|                                                      0.00|                                                      1.03|                                                      2.68|                                      86.01|                                      67.61|                                      38.00|\n",
      "|2000|Africa|         BFA|        Burkina Faso|                                                        50.79|                                                        54.92|                                                        73.96|                                                         null|                                                         null|                                                         null|                                                    11.29|                                                    50.31|                                                     null|                                                     null|                                                     null|                                                      2.10|                                                      5.88|                                                     23.31|                                      84.92|                                      71.39|                                       9.12|\n",
      "|2000|Africa|         BWA|            Botswana|                                                        53.58|                                                        75.20|                                                        94.20|                                                         null|                                                         null|                                                        84.02|                                                    51.92|                                                    68.78|                                                     null|                                                     null|                                                     null|                                                      null|                                                      null|                                                      null|                                      42.15|                                      21.71|                                       3.75|\n",
      "|2000|Africa|         CAF|Central African R...|                                                        44.01|                                                        58.26|                                                        81.87|                                                         null|                                                         null|                                                         null|                                                    15.02|                                                    26.06|                                                     null|                                                     null|                                                     null|                                                      null|                                                      null|                                                      null|                                      34.68|                                      22.95|                                       3.52|\n",
      "|2000|Africa|         CIV|       Côte d'Ivoire|                                                        55.55|                                                        70.76|                                                        90.80|                                                        15.87|                                                        33.74|                                                        57.27|                                                    21.00|                                                    38.98|                                                     null|                                                     null|                                                     null|                                                      null|                                                      null|                                                      null|                                      59.63|                                      36.12|                                       5.15|\n",
      "|2000|Africa|         CMR|            Cameroon|                                                        37.94|                                                        59.18|                                                        84.58|                                                         null|                                                         null|                                                         null|                                                    40.04|                                                    55.54|                                                     null|                                                     null|                                                     null|                                                      null|                                                      null|                                                      null|                                      12.85|                                       7.41|                                       0.90|\n",
      "|2000|Africa|         COD|Democratic Republ...|                                                        15.52|                                                        33.92|                                                        67.90|                                                         null|                                                         null|                                                         null|                                                    21.40|                                                    23.20|                                                     null|                                                     null|                                                     null|                                                      null|                                                      null|                                                      null|                                      14.33|                                      10.21|                                       2.58|\n",
      "|2000|Africa|         COG|               Congo|                                                        18.01|                                                        57.16|                                                        84.70|                                                         6.95|                                                        27.42|                                                        41.83|                                                    11.92|                                                    16.25|                                                     null|                                                     null|                                                     null|                                                      null|                                                      null|                                                      null|                                      15.96|                                       8.24|                                       2.80|\n",
      "|2000|Africa|         COM|             Comoros|                                                        91.45|                                                        90.95|                                                        89.65|                                                         null|                                                         null|                                                         null|                                                    29.20|                                                    43.91|                                                     null|                                                     null|                                                     null|                                                      null|                                                      null|                                                      null|                                       0.69|                                       0.66|                                       0.60|\n",
      "|2000|Africa|         CPV|          Cabo Verde|                                                        70.31|                                                        78.77|                                                        86.15|                                                         null|                                                         null|                                                         null|                                                    40.04|                                                    55.55|                                                     null|                                                     null|                                                     null|                                                      null|                                                      null|                                                      null|                                      70.58|                                      51.00|                                      33.95|\n",
      "|2000|Africa|         DZA|             Algeria|                                                        83.32|                                                        89.84|                                                        94.20|                                                         null|                                                         null|                                                         null|                                                    83.73|                                                    91.36|                                                    19.24|                                                    18.53|                                                    18.07|                                                      null|                                                      null|                                                      null|                                      14.81|                                       6.38|                                       0.74|\n",
      "|2000|Africa|         ERI|             Eritrea|                                                        30.99|                                                        46.81|                                                        90.51|                                                         null|                                                         null|                                                         null|                                                     8.29|                                                    27.33|                                                     null|                                                     null|                                                     null|                                                      null|                                                      null|                                                      null|                                      97.95|                                      82.73|                                      40.70|\n",
      "|2000|Africa|         ETH|            Ethiopia|                                                         8.62|                                                        18.70|                                                        77.00|                                                         0.00|                                                         4.53|                                                        30.72|                                                     3.40|                                                    15.97|                                                     1.01|                                                     null|                                                     null|                                                      null|                                                      null|                                                      null|                                      88.77|                                      79.05|                                      22.84|\n",
      "|2000|Africa|         GAB|               Gabon|                                                        37.02|                                                        79.54|                                                        90.92|                                                         null|                                                         null|                                                         null|                                                    34.46|                                                    35.52|                                                     null|                                                     null|                                                     null|                                                      null|                                                      null|                                                      null|                                       2.78|                                       1.71|                                       1.43|\n",
      "|2000|Africa|         GHA|               Ghana|                                                        54.03|                                                        64.46|                                                        77.79|                                                         0.22|                                                        13.10|                                                        29.54|                                                     8.56|                                                    14.00|                                                     null|                                                     null|                                                     null|                                                      null|                                                      null|                                                      null|                                      32.09|                                      21.86|                                       8.80|\n",
      "|2000|Africa|         GIN|              Guinea|                                                        53.10|                                                        62.73|                                                        84.31|                                                         null|                                                         null|                                                         null|                                                     9.43|                                                    23.57|                                                     null|                                                     null|                                                     null|                                                      null|                                                      null|                                                      null|                                      39.06|                                      27.54|                                       1.75|\n",
      "|2000|Africa|         GMB|              Gambia|                                                        67.84|                                                        75.00|                                                        82.80|                                                         null|                                                         null|                                                        41.16|                                                    57.65|                                                    50.52|                                                     null|                                                     null|                                                     null|                                                      null|                                                      null|                                                      null|                                       9.72|                                       5.72|                                       1.37|\n",
      "|2000|Africa|         GNB|       Guinea-Bissau|                                                        41.41|                                                        53.38|                                                        74.43|                                                         null|                                                         null|                                                         null|                                                    11.65|                                                    24.61|                                                     null|                                                     null|                                                     null|                                                      null|                                                      null|                                                      null|                                      54.60|                                      36.16|                                       3.73|\n",
      "+----+------+------------+--------------------+-------------------------------------------------------------+-------------------------------------------------------------+-------------------------------------------------------------+-------------------------------------------------------------+-------------------------------------------------------------+-------------------------------------------------------------+---------------------------------------------------------+---------------------------------------------------------+---------------------------------------------------------+---------------------------------------------------------+---------------------------------------------------------+----------------------------------------------------------+----------------------------------------------------------+----------------------------------------------------------+-------------------------------------------+-------------------------------------------+-------------------------------------------+\n",
      "only showing top 20 rows\n",
      "\n"
     ]
    }
   ],
   "source": [
    "df_sanitation_water.show()"
   ]
  },
  {
   "cell_type": "code",
   "execution_count": 25,
   "id": "2a0b637e",
   "metadata": {
    "scrolled": false
   },
   "outputs": [
    {
     "name": "stderr",
     "output_type": "stream",
     "text": [
      "                                                                                \r"
     ]
    },
    {
     "name": "stdout",
     "output_type": "stream",
     "text": [
      "+-------+-------------------------------------------------------------+\n",
      "|summary|Population_using_at_least_basic_drinking_water_services_Rural|\n",
      "+-------+-------------------------------------------------------------+\n",
      "|  count|                                                         2953|\n",
      "|   mean|                                                    74.984047|\n",
      "| stddev|                                           24.676125950356724|\n",
      "|    min|                                                         4.08|\n",
      "|    max|                                                       100.00|\n",
      "+-------+-------------------------------------------------------------+\n",
      "\n"
     ]
    },
    {
     "name": "stderr",
     "output_type": "stream",
     "text": [
      "                                                                                \r"
     ]
    },
    {
     "name": "stdout",
     "output_type": "stream",
     "text": [
      "+-------+-------------------------------------------------------------+\n",
      "|summary|Population_using_at_least_basic_drinking_water_services_Total|\n",
      "+-------+-------------------------------------------------------------+\n",
      "|  count|                                                         3449|\n",
      "|   mean|                                                    84.286587|\n",
      "| stddev|                                           18.873825766196795|\n",
      "|    min|                                                        18.70|\n",
      "|    max|                                                       100.00|\n",
      "+-------+-------------------------------------------------------------+\n",
      "\n"
     ]
    },
    {
     "name": "stderr",
     "output_type": "stream",
     "text": [
      "                                                                                \r"
     ]
    },
    {
     "name": "stdout",
     "output_type": "stream",
     "text": [
      "+-------+-------------------------------------------------------------+\n",
      "|summary|Population_using_at_least_basic_drinking_water_services_Urban|\n",
      "+-------+-------------------------------------------------------------+\n",
      "|  count|                                                         3013|\n",
      "|   mean|                                                    92.390037|\n",
      "| stddev|                                            9.563595057836439|\n",
      "|    min|                                                        49.49|\n",
      "|    max|                                                       100.00|\n",
      "+-------+-------------------------------------------------------------+\n",
      "\n"
     ]
    },
    {
     "name": "stderr",
     "output_type": "stream",
     "text": [
      "                                                                                \r"
     ]
    },
    {
     "name": "stdout",
     "output_type": "stream",
     "text": [
      "+-------+-------------------------------------------------------------+\n",
      "|summary|Population_using_safely_managed_drinking_water_services_Rural|\n",
      "+-------+-------------------------------------------------------------+\n",
      "|  count|                                                          612|\n",
      "|   mean|                                                    38.149118|\n",
      "| stddev|                                            28.13971260930169|\n",
      "|    min|                                                         0.00|\n",
      "|    max|                                                       100.00|\n",
      "+-------+-------------------------------------------------------------+\n",
      "\n"
     ]
    },
    {
     "name": "stderr",
     "output_type": "stream",
     "text": [
      "                                                                                \r"
     ]
    },
    {
     "name": "stdout",
     "output_type": "stream",
     "text": [
      "+-------+-------------------------------------------------------------+\n",
      "|summary|Population_using_safely_managed_drinking_water_services_Total|\n",
      "+-------+-------------------------------------------------------------+\n",
      "|  count|                                                         1745|\n",
      "|   mean|                                                    74.498613|\n",
      "| stddev|                                           27.518824099908116|\n",
      "|    min|                                                         4.53|\n",
      "|    max|                                                       100.00|\n",
      "+-------+-------------------------------------------------------------+\n",
      "\n"
     ]
    },
    {
     "name": "stderr",
     "output_type": "stream",
     "text": [
      "                                                                                \r"
     ]
    },
    {
     "name": "stdout",
     "output_type": "stream",
     "text": [
      "+-------+-------------------------------------------------------------+\n",
      "|summary|Population_using_safely_managed_drinking_water_services_Urban|\n",
      "+-------+-------------------------------------------------------------+\n",
      "|  count|                                                          929|\n",
      "|   mean|                                                    68.634801|\n",
      "| stddev|                                           25.867416121398463|\n",
      "|    min|                                                         3.71|\n",
      "|    max|                                                       100.00|\n",
      "+-------+-------------------------------------------------------------+\n",
      "\n"
     ]
    },
    {
     "name": "stderr",
     "output_type": "stream",
     "text": [
      "                                                                                \r"
     ]
    },
    {
     "name": "stdout",
     "output_type": "stream",
     "text": [
      "+-------+---------------------------------------------------------+\n",
      "|summary|Population_using_at_least_basic_sanitation_services_Total|\n",
      "+-------+---------------------------------------------------------+\n",
      "|  count|                                                     3439|\n",
      "|   mean|                                                71.211966|\n",
      "| stddev|                                       30.342367114183762|\n",
      "|    min|                                                     3.40|\n",
      "|    max|                                                   100.00|\n",
      "+-------+---------------------------------------------------------+\n",
      "\n"
     ]
    },
    {
     "name": "stderr",
     "output_type": "stream",
     "text": [
      "                                                                                \r"
     ]
    },
    {
     "name": "stdout",
     "output_type": "stream",
     "text": [
      "+-------+---------------------------------------------------------+\n",
      "|summary|Population_using_at_least_basic_sanitation_services_Urban|\n",
      "+-------+---------------------------------------------------------+\n",
      "|  count|                                                     2992|\n",
      "|   mean|                                                75.765515|\n",
      "| stddev|                                       25.793371387983765|\n",
      "|    min|                                                     9.43|\n",
      "|    max|                                                   100.00|\n",
      "+-------+---------------------------------------------------------+\n",
      "\n"
     ]
    },
    {
     "name": "stderr",
     "output_type": "stream",
     "text": [
      "                                                                                \r"
     ]
    },
    {
     "name": "stdout",
     "output_type": "stream",
     "text": [
      "+-------+---------------------------------------------------------+\n",
      "|summary|Population_using_safely_managed_sanitation_services_Rural|\n",
      "+-------+---------------------------------------------------------+\n",
      "|  count|                                                      783|\n",
      "|   mean|                                                54.222771|\n",
      "| stddev|                                        33.66585235730465|\n",
      "|    min|                                                     0.96|\n",
      "|    max|                                                   100.00|\n",
      "+-------+---------------------------------------------------------+\n",
      "\n",
      "+-------+---------------------------------------------------------+\n",
      "|summary|Population_using_safely_managed_sanitation_services_Total|\n",
      "+-------+---------------------------------------------------------+\n",
      "|  count|                                                     1571|\n",
      "|   mean|                                                62.768409|\n",
      "| stddev|                                       30.088514106886066|\n",
      "|    min|                                                     3.16|\n",
      "|    max|                                                   100.00|\n",
      "+-------+---------------------------------------------------------+\n",
      "\n",
      "+-------+---------------------------------------------------------+\n",
      "|summary|Population_using_safely_managed_sanitation_services_Urban|\n",
      "+-------+---------------------------------------------------------+\n",
      "|  count|                                                     1301|\n",
      "|   mean|                                                59.952275|\n",
      "| stddev|                                       31.518756599663593|\n",
      "|    min|                                                     4.18|\n",
      "|    max|                                                   100.00|\n",
      "+-------+---------------------------------------------------------+\n",
      "\n",
      "+-------+----------------------------------------------------------+\n",
      "|summary|Population_with_basic_handwashing_facilities_at_home_Rural|\n",
      "+-------+----------------------------------------------------------+\n",
      "|  count|                                                       907|\n",
      "|   mean|                                                 40.520000|\n",
      "| stddev|                                        31.971238630345553|\n",
      "|    min|                                                      0.00|\n",
      "|    max|                                                    100.00|\n",
      "+-------+----------------------------------------------------------+\n",
      "\n"
     ]
    },
    {
     "name": "stderr",
     "output_type": "stream",
     "text": [
      "                                                                                \r"
     ]
    },
    {
     "name": "stdout",
     "output_type": "stream",
     "text": [
      "+-------+----------------------------------------------------------+\n",
      "|summary|Population_with_basic_handwashing_facilities_at_home_Total|\n",
      "+-------+----------------------------------------------------------+\n",
      "|  count|                                                       921|\n",
      "|   mean|                                                 47.501911|\n",
      "| stddev|                                         32.77440614718687|\n",
      "|    min|                                                      1.03|\n",
      "|    max|                                                    100.00|\n",
      "+-------+----------------------------------------------------------+\n",
      "\n"
     ]
    },
    {
     "name": "stderr",
     "output_type": "stream",
     "text": [
      "                                                                                \r"
     ]
    },
    {
     "name": "stdout",
     "output_type": "stream",
     "text": [
      "+-------+----------------------------------------------------------+\n",
      "|summary|Population_with_basic_handwashing_facilities_at_home_Urban|\n",
      "+-------+----------------------------------------------------------+\n",
      "|  count|                                                       898|\n",
      "|   mean|                                                 55.588686|\n",
      "| stddev|                                         31.46764551429652|\n",
      "|    min|                                                      1.76|\n",
      "|    max|                                                    100.00|\n",
      "+-------+----------------------------------------------------------+\n",
      "\n"
     ]
    },
    {
     "name": "stderr",
     "output_type": "stream",
     "text": [
      "                                                                                \r"
     ]
    },
    {
     "name": "stdout",
     "output_type": "stream",
     "text": [
      "+-------+-------------------------------------------+\n",
      "|summary|Population_practising_open_defecation_Rural|\n",
      "+-------+-------------------------------------------+\n",
      "|  count|                                       2902|\n",
      "|   mean|                                  18.086999|\n",
      "| stddev|                         24.423633718705887|\n",
      "|    min|                                       0.00|\n",
      "|    max|                                      97.95|\n",
      "+-------+-------------------------------------------+\n",
      "\n"
     ]
    },
    {
     "name": "stderr",
     "output_type": "stream",
     "text": [
      "                                                                                \r"
     ]
    },
    {
     "name": "stdout",
     "output_type": "stream",
     "text": [
      "+-------+-------------------------------------------+\n",
      "|summary|Population_practising_open_defecation_Total|\n",
      "+-------+-------------------------------------------+\n",
      "|  count|                                       3402|\n",
      "|   mean|                                  10.825744|\n",
      "| stddev|                          17.66044778055224|\n",
      "|    min|                                       0.00|\n",
      "|    max|                                      84.59|\n",
      "+-------+-------------------------------------------+\n",
      "\n",
      "+-------+-------------------------------------------+\n",
      "|summary|Population_practising_open_defecation_Urban|\n",
      "+-------+-------------------------------------------+\n",
      "|  count|                                       2990|\n",
      "|   mean|                                   3.790906|\n",
      "| stddev|                          7.623980204142354|\n",
      "|    min|                                       0.00|\n",
      "|    max|                                      64.50|\n",
      "+-------+-------------------------------------------+\n",
      "\n"
     ]
    }
   ],
   "source": [
    "df_sanitation_water.describe('Population_using_at_least_basic_drinking_water_services_Rural').show()\n",
    "df_sanitation_water.describe('Population_using_at_least_basic_drinking_water_services_Total').show()\n",
    "df_sanitation_water.describe('Population_using_at_least_basic_drinking_water_services_Urban').show()\n",
    "\n",
    "df_sanitation_water.describe('Population_using_safely_managed_drinking_water_services_Rural').show()\n",
    "df_sanitation_water.describe('Population_using_safely_managed_drinking_water_services_Total').show()\n",
    "df_sanitation_water.describe('Population_using_safely_managed_drinking_water_services_Urban').show()\n",
    "\n",
    "df_sanitation_water.describe('Population_using_at_least_basic_sanitation_services_Total').show()\n",
    "df_sanitation_water.describe('Population_using_at_least_basic_sanitation_services_Urban').show()\n",
    "\n",
    "df_sanitation_water.describe('Population_using_safely_managed_sanitation_services_Rural').show()\n",
    "df_sanitation_water.describe('Population_using_safely_managed_sanitation_services_Total').show()\n",
    "df_sanitation_water.describe('Population_using_safely_managed_sanitation_services_Urban').show()\n",
    "\n",
    "df_sanitation_water.describe('Population_with_basic_handwashing_facilities_at_home_Rural').show()\n",
    "df_sanitation_water.describe('Population_with_basic_handwashing_facilities_at_home_Total').show()\n",
    "df_sanitation_water.describe('Population_with_basic_handwashing_facilities_at_home_Urban').show()\n",
    "\n",
    "df_sanitation_water.describe('Population_practising_open_defecation_Rural').show()\n",
    "df_sanitation_water.describe('Population_practising_open_defecation_Total').show()\n",
    "df_sanitation_water.describe('Population_practising_open_defecation_Urban').show()"
   ]
  },
  {
   "cell_type": "code",
   "execution_count": 26,
   "id": "9bdd410f",
   "metadata": {},
   "outputs": [],
   "source": [
    "# Inserindo valores 0 aonde existe pois o valor minimo em todas as colunas decimais é 0\n",
    "df_sanitation_water = df_sanitation_water.na.fill(0)"
   ]
  },
  {
   "cell_type": "code",
   "execution_count": 27,
   "id": "64aae54c",
   "metadata": {
    "scrolled": true
   },
   "outputs": [
    {
     "name": "stdout",
     "output_type": "stream",
     "text": [
      "+----+------+------------+--------------------+-------------------------------------------------------------+-------------------------------------------------------------+-------------------------------------------------------------+-------------------------------------------------------------+-------------------------------------------------------------+-------------------------------------------------------------+---------------------------------------------------------+---------------------------------------------------------+---------------------------------------------------------+---------------------------------------------------------+---------------------------------------------------------+----------------------------------------------------------+----------------------------------------------------------+----------------------------------------------------------+-------------------------------------------+-------------------------------------------+-------------------------------------------+\n",
      "|Year|Region|Country_code|             Country|Population_using_at_least_basic_drinking_water_services_Rural|Population_using_at_least_basic_drinking_water_services_Total|Population_using_at_least_basic_drinking_water_services_Urban|Population_using_safely_managed_drinking_water_services_Rural|Population_using_safely_managed_drinking_water_services_Total|Population_using_safely_managed_drinking_water_services_Urban|Population_using_at_least_basic_sanitation_services_Total|Population_using_at_least_basic_sanitation_services_Urban|Population_using_safely_managed_sanitation_services_Rural|Population_using_safely_managed_sanitation_services_Total|Population_using_safely_managed_sanitation_services_Urban|Population_with_basic_handwashing_facilities_at_home_Rural|Population_with_basic_handwashing_facilities_at_home_Total|Population_with_basic_handwashing_facilities_at_home_Urban|Population_practising_open_defecation_Rural|Population_practising_open_defecation_Total|Population_practising_open_defecation_Urban|\n",
      "+----+------+------------+--------------------+-------------------------------------------------------------+-------------------------------------------------------------+-------------------------------------------------------------+-------------------------------------------------------------+-------------------------------------------------------------+-------------------------------------------------------------+---------------------------------------------------------+---------------------------------------------------------+---------------------------------------------------------+---------------------------------------------------------+---------------------------------------------------------+----------------------------------------------------------+----------------------------------------------------------+----------------------------------------------------------+-------------------------------------------+-------------------------------------------+-------------------------------------------+\n",
      "|2000|Africa|         AGO|              Angola|                                                        21.15|                                                        41.14|                                                        61.07|                                                         0.00|                                                         0.00|                                                         0.00|                                                    27.56|                                                    47.51|                                                     0.00|                                                     0.00|                                                     0.00|                                                      0.00|                                                      0.00|                                                      0.00|                                      66.71|                                      42.87|                                      19.10|\n",
      "|2000|Africa|         BDI|             Burundi|                                                        47.84|                                                        50.66|                                                        82.05|                                                         0.00|                                                         0.00|                                                         0.00|                                                    45.21|                                                    40.56|                                                     0.00|                                                     0.00|                                                     0.00|                                                      0.00|                                                      0.00|                                                      0.00|                                       2.83|                                       2.76|                                       2.02|\n",
      "|2000|Africa|         BEN|               Benin|                                                        52.04|                                                        61.46|                                                        76.62|                                                         0.00|                                                         0.00|                                                         0.00|                                                     8.60|                                                    19.02|                                                     0.00|                                                     0.00|                                                     0.00|                                                      0.00|                                                      1.03|                                                      2.68|                                      86.01|                                      67.61|                                      38.00|\n",
      "|2000|Africa|         BFA|        Burkina Faso|                                                        50.79|                                                        54.92|                                                        73.96|                                                         0.00|                                                         0.00|                                                         0.00|                                                    11.29|                                                    50.31|                                                     0.00|                                                     0.00|                                                     0.00|                                                      2.10|                                                      5.88|                                                     23.31|                                      84.92|                                      71.39|                                       9.12|\n",
      "|2000|Africa|         BWA|            Botswana|                                                        53.58|                                                        75.20|                                                        94.20|                                                         0.00|                                                         0.00|                                                        84.02|                                                    51.92|                                                    68.78|                                                     0.00|                                                     0.00|                                                     0.00|                                                      0.00|                                                      0.00|                                                      0.00|                                      42.15|                                      21.71|                                       3.75|\n",
      "|2000|Africa|         CAF|Central African R...|                                                        44.01|                                                        58.26|                                                        81.87|                                                         0.00|                                                         0.00|                                                         0.00|                                                    15.02|                                                    26.06|                                                     0.00|                                                     0.00|                                                     0.00|                                                      0.00|                                                      0.00|                                                      0.00|                                      34.68|                                      22.95|                                       3.52|\n",
      "|2000|Africa|         CIV|       Côte d'Ivoire|                                                        55.55|                                                        70.76|                                                        90.80|                                                        15.87|                                                        33.74|                                                        57.27|                                                    21.00|                                                    38.98|                                                     0.00|                                                     0.00|                                                     0.00|                                                      0.00|                                                      0.00|                                                      0.00|                                      59.63|                                      36.12|                                       5.15|\n",
      "|2000|Africa|         CMR|            Cameroon|                                                        37.94|                                                        59.18|                                                        84.58|                                                         0.00|                                                         0.00|                                                         0.00|                                                    40.04|                                                    55.54|                                                     0.00|                                                     0.00|                                                     0.00|                                                      0.00|                                                      0.00|                                                      0.00|                                      12.85|                                       7.41|                                       0.90|\n",
      "|2000|Africa|         COD|Democratic Republ...|                                                        15.52|                                                        33.92|                                                        67.90|                                                         0.00|                                                         0.00|                                                         0.00|                                                    21.40|                                                    23.20|                                                     0.00|                                                     0.00|                                                     0.00|                                                      0.00|                                                      0.00|                                                      0.00|                                      14.33|                                      10.21|                                       2.58|\n",
      "|2000|Africa|         COG|               Congo|                                                        18.01|                                                        57.16|                                                        84.70|                                                         6.95|                                                        27.42|                                                        41.83|                                                    11.92|                                                    16.25|                                                     0.00|                                                     0.00|                                                     0.00|                                                      0.00|                                                      0.00|                                                      0.00|                                      15.96|                                       8.24|                                       2.80|\n",
      "|2000|Africa|         COM|             Comoros|                                                        91.45|                                                        90.95|                                                        89.65|                                                         0.00|                                                         0.00|                                                         0.00|                                                    29.20|                                                    43.91|                                                     0.00|                                                     0.00|                                                     0.00|                                                      0.00|                                                      0.00|                                                      0.00|                                       0.69|                                       0.66|                                       0.60|\n",
      "|2000|Africa|         CPV|          Cabo Verde|                                                        70.31|                                                        78.77|                                                        86.15|                                                         0.00|                                                         0.00|                                                         0.00|                                                    40.04|                                                    55.55|                                                     0.00|                                                     0.00|                                                     0.00|                                                      0.00|                                                      0.00|                                                      0.00|                                      70.58|                                      51.00|                                      33.95|\n",
      "|2000|Africa|         DZA|             Algeria|                                                        83.32|                                                        89.84|                                                        94.20|                                                         0.00|                                                         0.00|                                                         0.00|                                                    83.73|                                                    91.36|                                                    19.24|                                                    18.53|                                                    18.07|                                                      0.00|                                                      0.00|                                                      0.00|                                      14.81|                                       6.38|                                       0.74|\n",
      "|2000|Africa|         ERI|             Eritrea|                                                        30.99|                                                        46.81|                                                        90.51|                                                         0.00|                                                         0.00|                                                         0.00|                                                     8.29|                                                    27.33|                                                     0.00|                                                     0.00|                                                     0.00|                                                      0.00|                                                      0.00|                                                      0.00|                                      97.95|                                      82.73|                                      40.70|\n",
      "|2000|Africa|         ETH|            Ethiopia|                                                         8.62|                                                        18.70|                                                        77.00|                                                         0.00|                                                         4.53|                                                        30.72|                                                     3.40|                                                    15.97|                                                     1.01|                                                     0.00|                                                     0.00|                                                      0.00|                                                      0.00|                                                      0.00|                                      88.77|                                      79.05|                                      22.84|\n",
      "|2000|Africa|         GAB|               Gabon|                                                        37.02|                                                        79.54|                                                        90.92|                                                         0.00|                                                         0.00|                                                         0.00|                                                    34.46|                                                    35.52|                                                     0.00|                                                     0.00|                                                     0.00|                                                      0.00|                                                      0.00|                                                      0.00|                                       2.78|                                       1.71|                                       1.43|\n",
      "|2000|Africa|         GHA|               Ghana|                                                        54.03|                                                        64.46|                                                        77.79|                                                         0.22|                                                        13.10|                                                        29.54|                                                     8.56|                                                    14.00|                                                     0.00|                                                     0.00|                                                     0.00|                                                      0.00|                                                      0.00|                                                      0.00|                                      32.09|                                      21.86|                                       8.80|\n",
      "|2000|Africa|         GIN|              Guinea|                                                        53.10|                                                        62.73|                                                        84.31|                                                         0.00|                                                         0.00|                                                         0.00|                                                     9.43|                                                    23.57|                                                     0.00|                                                     0.00|                                                     0.00|                                                      0.00|                                                      0.00|                                                      0.00|                                      39.06|                                      27.54|                                       1.75|\n",
      "|2000|Africa|         GMB|              Gambia|                                                        67.84|                                                        75.00|                                                        82.80|                                                         0.00|                                                         0.00|                                                        41.16|                                                    57.65|                                                    50.52|                                                     0.00|                                                     0.00|                                                     0.00|                                                      0.00|                                                      0.00|                                                      0.00|                                       9.72|                                       5.72|                                       1.37|\n",
      "|2000|Africa|         GNB|       Guinea-Bissau|                                                        41.41|                                                        53.38|                                                        74.43|                                                         0.00|                                                         0.00|                                                         0.00|                                                    11.65|                                                    24.61|                                                     0.00|                                                     0.00|                                                     0.00|                                                      0.00|                                                      0.00|                                                      0.00|                                      54.60|                                      36.16|                                       3.73|\n",
      "+----+------+------------+--------------------+-------------------------------------------------------------+-------------------------------------------------------------+-------------------------------------------------------------+-------------------------------------------------------------+-------------------------------------------------------------+-------------------------------------------------------------+---------------------------------------------------------+---------------------------------------------------------+---------------------------------------------------------+---------------------------------------------------------+---------------------------------------------------------+----------------------------------------------------------+----------------------------------------------------------+----------------------------------------------------------+-------------------------------------------+-------------------------------------------+-------------------------------------------+\n",
      "only showing top 20 rows\n",
      "\n"
     ]
    }
   ],
   "source": [
    "# Dataframe após substituir os valores\n",
    "df_sanitation_water.show()"
   ]
  },
  {
   "cell_type": "code",
   "execution_count": 28,
   "id": "98081fb8",
   "metadata": {},
   "outputs": [
    {
     "name": "stdout",
     "output_type": "stream",
     "text": [
      "+-----------+----+-------------+--------------+-------------+--------------------+\n",
      "|    COUNTRY|YEAR|CASES_CHOLERA|DEATHS_CHOLERA|FATALITY_RATE|              REGION|\n",
      "+-----------+----+-------------+--------------+-------------+--------------------+\n",
      "|Afghanistan|2016|          677|             5|         0.70|Eastern Mediterra...|\n",
      "|Afghanistan|2015|        58064|             8|         0.01|Eastern Mediterra...|\n",
      "|Afghanistan|2014|        45481|             4|         0.00|Eastern Mediterra...|\n",
      "|Afghanistan|2013|         3957|            14|         0.35|Eastern Mediterra...|\n",
      "|Afghanistan|2012|           12|             0|         0.10|Eastern Mediterra...|\n",
      "|Afghanistan|2011|         3733|            44|         1.18|Eastern Mediterra...|\n",
      "|Afghanistan|2010|         2369|            10|         0.42|Eastern Mediterra...|\n",
      "|Afghanistan|2009|          662|            11|         1.66|Eastern Mediterra...|\n",
      "|Afghanistan|2008|         4384|            22|         0.50|Eastern Mediterra...|\n",
      "|Afghanistan|2005|           33|             0|         0.00|Eastern Mediterra...|\n",
      "|Afghanistan|2003|           41|             7|        17.07|Eastern Mediterra...|\n",
      "|Afghanistan|2002|            3|          null|         null|Eastern Mediterra...|\n",
      "|Afghanistan|2001|         4499|           114|         2.53|Eastern Mediterra...|\n",
      "|Afghanistan|2000|         4330|           198|         4.57|Eastern Mediterra...|\n",
      "|Afghanistan|1999|        24639|           152|         0.62|Eastern Mediterra...|\n",
      "|Afghanistan|1998|        10000|             0|         0.00|Eastern Mediterra...|\n",
      "|Afghanistan|1997|         4170|           125|         3.00|Eastern Mediterra...|\n",
      "|Afghanistan|1995|        19903|           624|         3.14|Eastern Mediterra...|\n",
      "|Afghanistan|1994|        38735|           118|         0.30|Eastern Mediterra...|\n",
      "|Afghanistan|1993|        37046|           931|         2.51|Eastern Mediterra...|\n",
      "+-----------+----+-------------+--------------+-------------+--------------------+\n",
      "only showing top 20 rows\n",
      "\n"
     ]
    }
   ],
   "source": [
    "df_cholera.show()"
   ]
  },
  {
   "cell_type": "code",
   "execution_count": 29,
   "id": "3ef9a8b0",
   "metadata": {},
   "outputs": [
    {
     "name": "stdout",
     "output_type": "stream",
     "text": [
      "+-------+------------------+\n",
      "|summary|     CASES_CHOLERA|\n",
      "+-------+------------------+\n",
      "|  count|              2469|\n",
      "|   mean| 3718.379100850547|\n",
      "| stddev|14904.906044893929|\n",
      "|    min|                 0|\n",
      "|    max|            340311|\n",
      "+-------+------------------+\n",
      "\n",
      "+-------+------------------+\n",
      "|summary|    DEATHS_CHOLERA|\n",
      "+-------+------------------+\n",
      "|  count|              2373|\n",
      "|   mean|378.08849557522126|\n",
      "| stddev|3570.2829791470526|\n",
      "|    min|                 0|\n",
      "|    max|            124227|\n",
      "+-------+------------------+\n",
      "\n",
      "+-------+------------------+\n",
      "|summary|     FATALITY_RATE|\n",
      "+-------+------------------+\n",
      "|  count|              2363|\n",
      "|   mean|          5.758028|\n",
      "| stddev|15.566521726111958|\n",
      "|    min|              0.00|\n",
      "|    max|            450.00|\n",
      "+-------+------------------+\n",
      "\n"
     ]
    }
   ],
   "source": [
    "df_cholera.describe('CASES_CHOLERA').show()\n",
    "df_cholera.describe('DEATHS_CHOLERA').show()\n",
    "df_cholera.describe('FATALITY_RATE').show()"
   ]
  },
  {
   "cell_type": "code",
   "execution_count": 30,
   "id": "171d2f19",
   "metadata": {},
   "outputs": [],
   "source": [
    "# Substituindo os valores nulls por 0 pois a mínima dessas colunas é 0\n",
    "df_cholera = df_cholera.na.fill(0)"
   ]
  },
  {
   "cell_type": "code",
   "execution_count": 31,
   "id": "c218e26b",
   "metadata": {
    "scrolled": true
   },
   "outputs": [
    {
     "name": "stdout",
     "output_type": "stream",
     "text": [
      "+-----------+----+-------------+--------------+-------------+--------------------+\n",
      "|    COUNTRY|YEAR|CASES_CHOLERA|DEATHS_CHOLERA|FATALITY_RATE|              REGION|\n",
      "+-----------+----+-------------+--------------+-------------+--------------------+\n",
      "|Afghanistan|2016|          677|             5|         0.70|Eastern Mediterra...|\n",
      "|Afghanistan|2015|        58064|             8|         0.01|Eastern Mediterra...|\n",
      "|Afghanistan|2014|        45481|             4|         0.00|Eastern Mediterra...|\n",
      "|Afghanistan|2013|         3957|            14|         0.35|Eastern Mediterra...|\n",
      "|Afghanistan|2012|           12|             0|         0.10|Eastern Mediterra...|\n",
      "|Afghanistan|2011|         3733|            44|         1.18|Eastern Mediterra...|\n",
      "|Afghanistan|2010|         2369|            10|         0.42|Eastern Mediterra...|\n",
      "|Afghanistan|2009|          662|            11|         1.66|Eastern Mediterra...|\n",
      "|Afghanistan|2008|         4384|            22|         0.50|Eastern Mediterra...|\n",
      "|Afghanistan|2005|           33|             0|         0.00|Eastern Mediterra...|\n",
      "|Afghanistan|2003|           41|             7|        17.07|Eastern Mediterra...|\n",
      "|Afghanistan|2002|            3|             0|         0.00|Eastern Mediterra...|\n",
      "|Afghanistan|2001|         4499|           114|         2.53|Eastern Mediterra...|\n",
      "|Afghanistan|2000|         4330|           198|         4.57|Eastern Mediterra...|\n",
      "|Afghanistan|1999|        24639|           152|         0.62|Eastern Mediterra...|\n",
      "|Afghanistan|1998|        10000|             0|         0.00|Eastern Mediterra...|\n",
      "|Afghanistan|1997|         4170|           125|         3.00|Eastern Mediterra...|\n",
      "|Afghanistan|1995|        19903|           624|         3.14|Eastern Mediterra...|\n",
      "|Afghanistan|1994|        38735|           118|         0.30|Eastern Mediterra...|\n",
      "|Afghanistan|1993|        37046|           931|         2.51|Eastern Mediterra...|\n",
      "+-----------+----+-------------+--------------+-------------+--------------------+\n",
      "only showing top 20 rows\n",
      "\n"
     ]
    }
   ],
   "source": [
    "df_cholera.show()"
   ]
  },
  {
   "cell_type": "markdown",
   "id": "e9f89db5",
   "metadata": {},
   "source": [
    "# Fazendo upload dos datasets no S3"
   ]
  },
  {
   "cell_type": "code",
   "execution_count": 32,
   "id": "c5f6851a",
   "metadata": {
    "scrolled": true
   },
   "outputs": [
    {
     "name": "stderr",
     "output_type": "stream",
     "text": [
      "22/06/15 00:42:47 WARN AbstractS3ACommitterFactory: Using standard FileOutputCommitter to commit work. This is slow and potentially unsafe.\n",
      "22/06/15 00:42:48 WARN AbstractS3ACommitterFactory: Using standard FileOutputCommitter to commit work. This is slow and potentially unsafe.\n",
      "                                                                                \r"
     ]
    }
   ],
   "source": [
    "df_cholera.write \\\n",
    "   .option(\"header\", \"true\") \\\n",
    "   .mode('overwrite') \\\n",
    "   .csv('s3a://andre-sprint03-sptech-bucket-tratados/cases_of_cholera')"
   ]
  },
  {
   "cell_type": "code",
   "execution_count": 33,
   "id": "bd10e743",
   "metadata": {
    "scrolled": true
   },
   "outputs": [
    {
     "name": "stderr",
     "output_type": "stream",
     "text": [
      "22/06/15 00:42:51 WARN AbstractS3ACommitterFactory: Using standard FileOutputCommitter to commit work. This is slow and potentially unsafe.\n",
      "22/06/15 00:42:51 WARN AbstractS3ACommitterFactory: Using standard FileOutputCommitter to commit work. This is slow and potentially unsafe.\n",
      "                                                                                \r"
     ]
    }
   ],
   "source": [
    "df_sanitation_water.write \\\n",
    "   .option(\"header\", \"true\") \\\n",
    "   .mode('overwrite') \\\n",
    "   .csv('s3a://andre-sprint03-sptech-bucket-tratados/sanitation_water')"
   ]
  },
  {
   "cell_type": "code",
   "execution_count": null,
   "id": "02ec977c",
   "metadata": {},
   "outputs": [],
   "source": []
  }
 ],
 "metadata": {
  "kernelspec": {
   "display_name": "Python 3 (ipykernel)",
   "language": "python",
   "name": "python3"
  },
  "language_info": {
   "codemirror_mode": {
    "name": "ipython",
    "version": 3
   },
   "file_extension": ".py",
   "mimetype": "text/x-python",
   "name": "python",
   "nbconvert_exporter": "python",
   "pygments_lexer": "ipython3",
   "version": "3.7.10"
  }
 },
 "nbformat": 4,
 "nbformat_minor": 5
}
